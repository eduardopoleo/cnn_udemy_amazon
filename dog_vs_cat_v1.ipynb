{
 "cells": [
  {
   "cell_type": "code",
   "execution_count": 12,
   "metadata": {},
   "outputs": [
    {
     "name": "stdout",
     "output_type": "stream",
     "text": [
      "Found 8000 images belonging to 2 classes.\n",
      "Found 2000 images belonging to 2 classes.\n",
      "Epoch 1/40\n",
      "250/250 [==============================] - 107s 430ms/step - loss: 0.6883 - acc: 0.5527 - val_loss: 0.6461 - val_acc: 0.6390\n",
      "Epoch 2/40\n",
      "250/250 [==============================] - 102s 409ms/step - loss: 0.6533 - acc: 0.6206 - val_loss: 0.6210 - val_acc: 0.6550\n",
      "Epoch 3/40\n",
      "250/250 [==============================] - 102s 407ms/step - loss: 0.6114 - acc: 0.6700 - val_loss: 0.6119 - val_acc: 0.6755\n",
      "Epoch 4/40\n",
      "250/250 [==============================] - 102s 407ms/step - loss: 0.5849 - acc: 0.6910 - val_loss: 0.5635 - val_acc: 0.7115\n",
      "Epoch 5/40\n",
      "250/250 [==============================] - 102s 409ms/step - loss: 0.5543 - acc: 0.7186 - val_loss: 0.5185 - val_acc: 0.7550\n",
      "Epoch 6/40\n",
      "250/250 [==============================] - 102s 409ms/step - loss: 0.5192 - acc: 0.7451 - val_loss: 0.5012 - val_acc: 0.7595\n",
      "Epoch 7/40\n",
      "250/250 [==============================] - 102s 408ms/step - loss: 0.4972 - acc: 0.7649 - val_loss: 0.5123 - val_acc: 0.7575\n",
      "Epoch 8/40\n",
      "250/250 [==============================] - 102s 409ms/step - loss: 0.4657 - acc: 0.7774 - val_loss: 0.4703 - val_acc: 0.7890\n",
      "Epoch 9/40\n",
      "250/250 [==============================] - 102s 408ms/step - loss: 0.4565 - acc: 0.7887 - val_loss: 0.4653 - val_acc: 0.7920\n",
      "Epoch 10/40\n",
      "250/250 [==============================] - 101s 405ms/step - loss: 0.4356 - acc: 0.8005 - val_loss: 0.4544 - val_acc: 0.7920\n",
      "Epoch 11/40\n",
      "250/250 [==============================] - 102s 409ms/step - loss: 0.4286 - acc: 0.8057 - val_loss: 0.4363 - val_acc: 0.8010\n",
      "Epoch 12/40\n",
      "250/250 [==============================] - 102s 409ms/step - loss: 0.4136 - acc: 0.8149 - val_loss: 0.4182 - val_acc: 0.8115\n",
      "Epoch 13/40\n",
      "250/250 [==============================] - 102s 408ms/step - loss: 0.4057 - acc: 0.8193 - val_loss: 0.4188 - val_acc: 0.8140\n",
      "Epoch 14/40\n",
      "250/250 [==============================] - 102s 409ms/step - loss: 0.3862 - acc: 0.8310 - val_loss: 0.4066 - val_acc: 0.8240\n",
      "Epoch 15/40\n",
      "250/250 [==============================] - 102s 409ms/step - loss: 0.3778 - acc: 0.8354 - val_loss: 0.4509 - val_acc: 0.8065\n",
      "Epoch 16/40\n",
      "250/250 [==============================] - 102s 408ms/step - loss: 0.3716 - acc: 0.8399 - val_loss: 0.3950 - val_acc: 0.8280\n",
      "Epoch 17/40\n",
      "250/250 [==============================] - 102s 409ms/step - loss: 0.3568 - acc: 0.8434 - val_loss: 0.4014 - val_acc: 0.8250\n",
      "Epoch 18/40\n",
      "250/250 [==============================] - 103s 412ms/step - loss: 0.3406 - acc: 0.8533 - val_loss: 0.4362 - val_acc: 0.8190\n",
      "Epoch 19/40\n",
      "250/250 [==============================] - 103s 410ms/step - loss: 0.3515 - acc: 0.8494 - val_loss: 0.3735 - val_acc: 0.8405\n",
      "Epoch 20/40\n",
      "250/250 [==============================] - 102s 410ms/step - loss: 0.3260 - acc: 0.8584 - val_loss: 0.3714 - val_acc: 0.8355\n",
      "Epoch 21/40\n",
      "250/250 [==============================] - 102s 407ms/step - loss: 0.3312 - acc: 0.8568 - val_loss: 0.3950 - val_acc: 0.8270\n",
      "Epoch 22/40\n",
      "250/250 [==============================] - 102s 408ms/step - loss: 0.3210 - acc: 0.8616 - val_loss: 0.3657 - val_acc: 0.8445\n",
      "Epoch 23/40\n",
      "250/250 [==============================] - 102s 410ms/step - loss: 0.3011 - acc: 0.8681 - val_loss: 0.3912 - val_acc: 0.8395\n",
      "Epoch 24/40\n",
      "250/250 [==============================] - 102s 409ms/step - loss: 0.2958 - acc: 0.8738 - val_loss: 0.3909 - val_acc: 0.8380\n",
      "Epoch 25/40\n",
      "250/250 [==============================] - 102s 409ms/step - loss: 0.2984 - acc: 0.8780 - val_loss: 0.3669 - val_acc: 0.8540\n",
      "Epoch 26/40\n",
      "250/250 [==============================] - 102s 408ms/step - loss: 0.2915 - acc: 0.8746 - val_loss: 0.3739 - val_acc: 0.8460\n",
      "Epoch 27/40\n",
      "250/250 [==============================] - 102s 409ms/step - loss: 0.2948 - acc: 0.8731 - val_loss: 0.3816 - val_acc: 0.8505\n",
      "Epoch 28/40\n",
      "250/250 [==============================] - 103s 410ms/step - loss: 0.2803 - acc: 0.8814 - val_loss: 0.4028 - val_acc: 0.8425\n",
      "Epoch 29/40\n",
      "250/250 [==============================] - 102s 407ms/step - loss: 0.2789 - acc: 0.8796 - val_loss: 0.3704 - val_acc: 0.8440\n",
      "Epoch 30/40\n",
      "250/250 [==============================] - 102s 408ms/step - loss: 0.2810 - acc: 0.8840 - val_loss: 0.3901 - val_acc: 0.8400\n",
      "Epoch 31/40\n",
      "250/250 [==============================] - 102s 407ms/step - loss: 0.2681 - acc: 0.8855 - val_loss: 0.4340 - val_acc: 0.8500\n",
      "Epoch 32/40\n",
      "250/250 [==============================] - 102s 407ms/step - loss: 0.2693 - acc: 0.8869 - val_loss: 0.3818 - val_acc: 0.8475\n",
      "Epoch 33/40\n",
      "250/250 [==============================] - 102s 406ms/step - loss: 0.2549 - acc: 0.8934 - val_loss: 0.3600 - val_acc: 0.8605\n",
      "Epoch 34/40\n",
      "250/250 [==============================] - 102s 408ms/step - loss: 0.2543 - acc: 0.8941 - val_loss: 0.3828 - val_acc: 0.8640\n",
      "Epoch 35/40\n",
      "250/250 [==============================] - 103s 411ms/step - loss: 0.2520 - acc: 0.8928 - val_loss: 0.3717 - val_acc: 0.8565\n",
      "Epoch 36/40\n",
      "250/250 [==============================] - 102s 409ms/step - loss: 0.2484 - acc: 0.8944 - val_loss: 0.3786 - val_acc: 0.8560\n",
      "Epoch 37/40\n",
      "250/250 [==============================] - 102s 410ms/step - loss: 0.2381 - acc: 0.9022 - val_loss: 0.3986 - val_acc: 0.8460\n",
      "Epoch 38/40\n",
      "250/250 [==============================] - 102s 406ms/step - loss: 0.2364 - acc: 0.9015 - val_loss: 0.3977 - val_acc: 0.8450\n",
      "Epoch 39/40\n",
      "250/250 [==============================] - 102s 408ms/step - loss: 0.2306 - acc: 0.9029 - val_loss: 0.3894 - val_acc: 0.8580\n",
      "Epoch 40/40\n",
      "250/250 [==============================] - 102s 408ms/step - loss: 0.2356 - acc: 0.9014 - val_loss: 0.3856 - val_acc: 0.8625\n"
     ]
    },
    {
     "data": {
      "text/plain": [
       "<keras.callbacks.History at 0x7f9618138898>"
      ]
     },
     "execution_count": 12,
     "metadata": {},
     "output_type": "execute_result"
    }
   ],
   "source": [
    "from keras.optimizers import Adam\n",
    "from keras.models import Sequential\n",
    "from keras.layers import Conv2D # images are 2D\n",
    "from keras.layers import MaxPooling2D\n",
    "from keras.layers import Flatten # conver the feature map into the vector to feed the NN\n",
    "from keras.layers import Dense\n",
    "from keras.layers import Dropout\n",
    "\n",
    "# Initializing the CNN\n",
    "\n",
    "classifier = Sequential()\n",
    "\n",
    "\n",
    "# Convolution\n",
    "#args: \n",
    "# number of feature detectors\n",
    "# number of columns per feature detector\n",
    "# number of rows per feature detector\n",
    "# input_shape(number_of_channels, dim1, dim2)\n",
    "classifier.add(Conv2D(32, (3, 3), input_shape = (256, 256, 3), activation = 'relu')) # tensorflow backend order\n",
    "\n",
    "# Pooling\n",
    "# pool_size: size of the subtable that slides over the feature table to choose the max feature\n",
    "classifier.add(MaxPooling2D(pool_size = (2,2)))\n",
    "\n",
    "# Train Acc: 0.80, Test Acc: 0.77\n",
    "# Adding an additional layer to improve Acc results:\n",
    "classifier.add(Conv2D(32, (3, 3), activation = 'relu'))\n",
    "classifier.add(MaxPooling2D(pool_size = (2,2)))\n",
    "\n",
    "# Train Acc: 0.9\n",
    "# test Acc: 0.80 (with second layer)\n",
    "classifier.add(Conv2D(32, (3, 3), activation = 'relu'))\n",
    "classifier.add(MaxPooling2D(pool_size = (2,2)))\n",
    "# Result  acc: 0.9674  val_acc: 0.8290\n",
    "\n",
    "\n",
    "# Flattening\n",
    "classifier.add(Flatten())\n",
    "\n",
    "# Full connection\n",
    "classifier.add(Dense(units = 128, activation = 'relu'))\n",
    "classifier.add(Dropout(0.5))\n",
    "# Result acc: 0.9014  val_acc: 0.val_acc: 0.8625 BEST!\n",
    "classifier.add(Dense(units = 1, activation = 'sigmoid'))\n",
    "\n",
    "# Compiling the CNN\n",
    "classifier.compile(optimizer = 'adam', loss = 'binary_crossentropy', metrics = ['accuracy'])\n",
    "\n",
    "# Fitting the CNN to the images taken from (https://keras.io/preprocessing/image/)\n",
    "\n",
    "from keras.preprocessing.image import ImageDataGenerator\n",
    "\n",
    "train_datagen = ImageDataGenerator(\n",
    "        rescale=1./255,\n",
    "        shear_range=0.2,\n",
    "        zoom_range=0.2,\n",
    "        horizontal_flip=True)\n",
    "\n",
    "test_datagen = ImageDataGenerator(rescale=1./255)\n",
    "\n",
    "training_set = train_datagen.flow_from_directory(\n",
    "        'dataset/training_set',\n",
    "        target_size=(256, 256), \n",
    "        batch_size=32,\n",
    "        class_mode='binary')\n",
    "\n",
    "# the dimensions to which all images found will be resized. \n",
    "# Default: (256, 256). Do not know if you can go higher\n",
    "# In general higher better cuz we have more information about the pixels but it's more\n",
    "# computational intensive.\n",
    "test_set = test_datagen.flow_from_directory(\n",
    "        'dataset/test_set',\n",
    "        target_size=(256, 256),\n",
    "        batch_size=32,\n",
    "        class_mode='binary')\n",
    "\n",
    "classifier.fit_generator(\n",
    "        training_set,\n",
    "        steps_per_epoch=8000/32, # number of batches to be considered on the training set\n",
    "        epochs=40,\n",
    "        validation_data=test_set,\n",
    "        validation_steps=2000/32) # number of batches to bbe considered on the test set.\n"
   ]
  },
  {
   "cell_type": "code",
   "execution_count": 2,
   "metadata": {},
   "outputs": [
    {
     "data": {
      "text/plain": [
       "<tensorflow.python.client.session.Session at 0x7f96a52de2b0>"
      ]
     },
     "execution_count": 2,
     "metadata": {},
     "output_type": "execute_result"
    }
   ],
   "source": [
    "import tensorflow as tf\n",
    "sess = tf.Session(config=tf.ConfigProto(log_device_placement=True))\n",
    "sess"
   ]
  },
  {
   "cell_type": "code",
   "execution_count": 5,
   "metadata": {},
   "outputs": [
    {
     "name": "stdout",
     "output_type": "stream",
     "text": [
      "[[ 22.  28.]\n",
      " [ 49.  64.]]\n"
     ]
    }
   ],
   "source": [
    "# Creates a graph.\n",
    "a = tf.constant([1.0, 2.0, 3.0, 4.0, 5.0, 6.0], shape=[2, 3], name='a')\n",
    "b = tf.constant([1.0, 2.0, 3.0, 4.0, 5.0, 6.0], shape=[3, 2], name='b')\n",
    "c = tf.matmul(a, b)\n",
    "# Creates a session with log_device_placement set to True.\n",
    "sess = tf.Session(config=tf.ConfigProto(log_device_placement=True))\n",
    "# Runs the op.\n",
    "print(sess.run(c))\n"
   ]
  },
  {
   "cell_type": "code",
   "execution_count": null,
   "metadata": {},
   "outputs": [],
   "source": []
  }
 ],
 "metadata": {
  "kernelspec": {
   "display_name": "Python 3",
   "language": "python",
   "name": "python3"
  },
  "language_info": {
   "codemirror_mode": {
    "name": "ipython",
    "version": 3
   },
   "file_extension": ".py",
   "mimetype": "text/x-python",
   "name": "python",
   "nbconvert_exporter": "python",
   "pygments_lexer": "ipython3",
   "version": "3.6.3"
  }
 },
 "nbformat": 4,
 "nbformat_minor": 2
}
